{
 "cells": [
  {
   "cell_type": "markdown",
   "metadata": {},
   "source": [
    "## As a parent you type in a channel your kid watches and it tells you how \"toxic\" it is. As a parent you can decided what level is your threshold. "
   ]
  },
  {
   "cell_type": "code",
   "execution_count": 1,
   "metadata": {},
   "outputs": [
    {
     "name": "stdout",
     "output_type": "stream",
     "text": [
      "What channel is your kid watching?Logan Paul Vlogs\n"
     ]
    }
   ],
   "source": [
    "import sys\n",
    "import csv\n",
    "\n",
    "obj = []\n",
    "name = input(\"What channel is your kid watching?\")"
   ]
  },
  {
   "cell_type": "code",
   "execution_count": 2,
   "metadata": {},
   "outputs": [
    {
     "name": "stdout",
     "output_type": "stream",
     "text": [
      "If your child is watching Logan Paul Vlogs, then your child is being exposed to enviorment that has on average 60% - 80% negativity present. Your child is at risk of being influenced by the wrong crowd.\n"
     ]
    }
   ],
   "source": [
    "for row in csv.DictReader(open(\"All_channel_Sentiment_OG.csv\")):\n",
    "    pp = int(row[\"Positive_Percentage\"])\n",
    "    channel = row[\"Channel\"]\n",
    "    \n",
    "    if channel == name:\n",
    "        \n",
    "        if pp < 20:\n",
    "            print(\"If your child is watching \"+ name + \", then your child is beeing influenced by a Youtuber who's ecosystem is more than 80% negative. Talk to your child immediately!\")\n",
    "            break\n",
    "        elif 39 > pp > 19:\n",
    "            print(\"If your child is watching \"+ name + \", then your child is being exposed to enviorment that has on average 60% - 80% negativity present. Your child is at risk of being influenced by the wrong crowd.\") \n",
    "            break    \n",
    "        elif 59 > pp > 39:\n",
    "            print(\"If your child is watching \"+ name + \", then they are exposed to an average of of 40% - 60% of negativity. This interval is an average amount of negativity/positivity. Your child is exposed to a healthy amount of sentiment.\")\n",
    "            break\n",
    "        elif 79 > pp > 59:\n",
    "            print(\"If your child is watching \"+ name + \", then they are exposed to very little amount of negativity. Good work mom and dad!\")\n",
    "            break\n",
    "        elif pp > 79:\n",
    "            print(\"You've done an amazing job parenting your child\"+ name +\" is an amazing Youtuber and we have reason to believe that your child enjoys very positive videos.\")\n",
    "            break         "
   ]
  }
 ],
 "metadata": {
  "kernelspec": {
   "display_name": "Python 3",
   "language": "python",
   "name": "python3"
  },
  "language_info": {
   "codemirror_mode": {
    "name": "ipython",
    "version": 3
   },
   "file_extension": ".py",
   "mimetype": "text/x-python",
   "name": "python",
   "nbconvert_exporter": "python",
   "pygments_lexer": "ipython3",
   "version": "3.7.6"
  }
 },
 "nbformat": 4,
 "nbformat_minor": 2
}
